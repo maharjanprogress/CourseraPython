{
 "cells": [
  {
   "cell_type": "markdown",
   "metadata": {},
   "source": [
    "# Write a program to implement the steepest ascent hill climbing for the 8-puzzle problem. Develop appropriate heuristic functions."
   ]
  },
  {
   "cell_type": "markdown",
   "metadata": {},
   "source": [
    "## Importing Relevant Libraries and stating goal state"
   ]
  },
  {
   "cell_type": "code",
   "execution_count": 3,
   "metadata": {},
   "outputs": [],
   "source": [
    "import random\n",
    "import copy\n",
    "\n",
    "GOAL_STATE = [[1, 2, 3], [4, 5, 6], [7, 8, 0]]"
   ]
  },
  {
   "cell_type": "markdown",
   "metadata": {},
   "source": [
    "## Relevant Functions"
   ]
  },
  {
   "cell_type": "code",
   "execution_count": 4,
   "metadata": {},
   "outputs": [],
   "source": [
    "# Function to calculate the heuristic value (number of misplaced tiles)\n",
    "def heuristic(state):\n",
    "    misplaced = 0\n",
    "    for i in range(3):\n",
    "        for j in range(3):\n",
    "            if state[i][j] != 0 and state[i][j] != GOAL_STATE[i][j]:\n",
    "                misplaced += 1\n",
    "    return misplaced\n",
    "\n",
    "# Function to find the position of the blank tile (0)\n",
    "def find_blank(state):\n",
    "    for i in range(3):\n",
    "        for j in range(3):\n",
    "            if state[i][j] == 0:\n",
    "                return i, j\n",
    "\n",
    "# Function to generate possible moves from the current state\n",
    "def generate_successors(state):\n",
    "    successors = []\n",
    "    blank_x, blank_y = find_blank(state)\n",
    "    moves = [(-1, 0), (1, 0), (0, -1), (0, 1)]  # Up, Down, Left, Right\n",
    "\n",
    "    for move in moves:\n",
    "        new_x, new_y = blank_x + move[0], blank_y + move[1]\n",
    "        if 0 <= new_x < 3 and 0 <= new_y < 3:\n",
    "            new_state = copy.deepcopy(state)\n",
    "            # Swap blank with the adjacent tile\n",
    "            new_state[blank_x][blank_y], new_state[new_x][new_y] = new_state[new_x][new_y], new_state[blank_x][blank_y]\n",
    "            successors.append(new_state)\n",
    "\n",
    "    return successors\n",
    "\n",
    "# Function to implement steepest ascent hill climbing\n",
    "def steepest_ascent_hill_climbing(initial_state):\n",
    "    current_state = initial_state\n",
    "    current_h = heuristic(current_state)\n",
    "\n",
    "    while True:\n",
    "        print(\"Current state:\")\n",
    "        for row in current_state:\n",
    "            print(row)\n",
    "        print(f\"Heuristic value: {current_h}\\n\")\n",
    "\n",
    "        if current_h == 0:\n",
    "            print(\"Goal state reached!\")\n",
    "            return current_state\n",
    "\n",
    "        # Generate all successors\n",
    "        successors = generate_successors(current_state)\n",
    "        \n",
    "        # Evaluate the heuristic for each successor\n",
    "        best_successor = None\n",
    "        best_h = float('inf')\n",
    "        for successor in successors:\n",
    "            h = heuristic(successor)\n",
    "            if h < best_h:\n",
    "                best_h = h\n",
    "                best_successor = successor\n",
    "\n",
    "        # If no improvement, terminate\n",
    "        if best_h >= current_h:\n",
    "            print(\"No better moves. Stopping.\")\n",
    "            return current_state\n",
    "\n",
    "        # Move to the best successor\n",
    "        current_state = best_successor\n",
    "        current_h = best_h\n",
    "\n",
    "# Function to generate a solvable random initial state\n",
    "def generate_solvable_state():\n",
    "    while True:\n",
    "        state = [1, 2, 3, 4, 5, 6, 7, 8, 0]\n",
    "        random.shuffle(state)\n",
    "        state = [state[:3], state[3:6], state[6:]]\n",
    "\n",
    "        # Check if the state is solvable\n",
    "        inversions = 0\n",
    "        flat_state = [tile for row in state for tile in row if tile != 0]\n",
    "        for i in range(len(flat_state)):\n",
    "            for j in range(i + 1, len(flat_state)):\n",
    "                if flat_state[i] > flat_state[j]:\n",
    "                    inversions += 1\n",
    "\n",
    "        if inversions % 2 == 0:\n",
    "            return state\n"
   ]
  },
  {
   "cell_type": "markdown",
   "metadata": {},
   "source": [
    "## Main Function"
   ]
  },
  {
   "cell_type": "code",
   "execution_count": 23,
   "metadata": {},
   "outputs": [
    {
     "name": "stdout",
     "output_type": "stream",
     "text": [
      "Initial state:\n",
      "[6, 0, 7]\n",
      "[1, 2, 5]\n",
      "[4, 8, 3]\n",
      "\n",
      "Current state:\n",
      "[6, 0, 7]\n",
      "[1, 2, 5]\n",
      "[4, 8, 3]\n",
      "Heuristic value: 7\n",
      "\n",
      "Current state:\n",
      "[6, 2, 7]\n",
      "[1, 0, 5]\n",
      "[4, 8, 3]\n",
      "Heuristic value: 6\n",
      "\n",
      "Current state:\n",
      "[6, 2, 7]\n",
      "[1, 5, 0]\n",
      "[4, 8, 3]\n",
      "Heuristic value: 5\n",
      "\n",
      "No better moves. Stopping.\n"
     ]
    }
   ],
   "source": [
    "if __name__ == \"__main__\":\n",
    "    # Generate a random solvable initial state\n",
    "    initial_state = generate_solvable_state()\n",
    "\n",
    "    print(\"Initial state:\")\n",
    "    for row in initial_state:\n",
    "        print(row)\n",
    "    print()\n",
    "\n",
    "    # Solve the puzzle using steepest ascent hill climbing\n",
    "    steepest_ascent_hill_climbing(initial_state)"
   ]
  }
 ],
 "metadata": {
  "kernelspec": {
   "display_name": "jupEnv",
   "language": "python",
   "name": "python3"
  },
  "language_info": {
   "codemirror_mode": {
    "name": "ipython",
    "version": 3
   },
   "file_extension": ".py",
   "mimetype": "text/x-python",
   "name": "python",
   "nbconvert_exporter": "python",
   "pygments_lexer": "ipython3",
   "version": "3.10.16"
  }
 },
 "nbformat": 4,
 "nbformat_minor": 2
}
