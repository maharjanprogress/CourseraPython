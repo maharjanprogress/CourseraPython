{
 "cells": [
  {
   "cell_type": "markdown",
   "metadata": {},
   "source": [
    "# WAP in Python will implement DFS/BFS on the water jug problem."
   ]
  },
  {
   "cell_type": "markdown",
   "metadata": {},
   "source": [
    "## Import library"
   ]
  },
  {
   "cell_type": "code",
   "execution_count": 2,
   "metadata": {},
   "outputs": [],
   "source": [
    "from collections import deque"
   ]
  },
  {
   "cell_type": "markdown",
   "metadata": {},
   "source": [
    "## Class Defining"
   ]
  },
  {
   "cell_type": "code",
   "execution_count": 3,
   "metadata": {},
   "outputs": [],
   "source": [
    "class WaterJug:\n",
    "    def __init__(self, capacity_a=4, capacity_b=3, goal=(2, 0)):\n",
    "        self.capacity_a = capacity_a  # Capacity of Jug A (4 liters)\n",
    "        self.capacity_b = capacity_b  # Capacity of Jug B (3 liters)\n",
    "        self.goal = goal  # Goal state (2 liters in Jug A)\n",
    "        self.initial_state = (4, 0)  # Initial state (4 liters in Jug A, 0 liters in Jug B)\n",
    "\n",
    "    def goal_test(self, state):\n",
    "       # Check if the current state matches the goal state.\n",
    "        return state == self.goal\n",
    "\n",
    "    def successor(self, state):\n",
    "       # Generate all possible child states from the current state.\n",
    "        a, b = state\n",
    "        successors = []\n",
    "\n",
    "        # Fill Jug A\n",
    "        successors.append((self.capacity_a, b))\n",
    "        # Fill Jug B\n",
    "        successors.append((a, self.capacity_b))\n",
    "        # Empty Jug A\n",
    "        successors.append((0, b))\n",
    "        # Empty Jug B\n",
    "        successors.append((a, 0))\n",
    "        # Pour from A to B\n",
    "        pour_to_b = min(a, self.capacity_b - b)\n",
    "        successors.append((a - pour_to_b, b + pour_to_b))\n",
    "        # Pour from B to A\n",
    "        pour_to_a = min(b, self.capacity_a - a)\n",
    "        successors.append((a + pour_to_a, b - pour_to_a))\n",
    "\n",
    "        # Return unique and valid states\n",
    "        return list(set(successors))\n",
    "\n",
    "    def search(self, algorithm=\"BFS\"):\n",
    "       #Search algorithm to find the solution using BFS or DFS.\n",
    "        if algorithm not in [\"BFS\", \"DFS\"]:\n",
    "            raise ValueError(\"Invalid algorithm! Use 'BFS' or 'DFS'.\")\n",
    "\n",
    "        # Open list: queue for BFS, stack for DFS\n",
    "        open_list = deque([self.initial_state])\n",
    "        closed_list = {}  # CLOSED list to store visited states and their parents\n",
    "\n",
    "        closed_list[self.initial_state] = None  # Initial state has no parent\n",
    "\n",
    "        while open_list:\n",
    "            current_state = (\n",
    "                open_list.popleft() if algorithm == \"BFS\" else open_list.pop()\n",
    "            )\n",
    "\n",
    "            # Check if goal is reached\n",
    "            if self.goal_test(current_state):\n",
    "                return self.generate_path(closed_list, current_state)\n",
    "\n",
    "            # Explore successors\n",
    "            for child_state in self.successor(current_state):\n",
    "                if child_state not in closed_list:\n",
    "                    closed_list[child_state] = current_state\n",
    "                    open_list.append(child_state)\n",
    "\n",
    "        return None  # No solution found\n",
    "\n",
    "    def generate_path(self, closed_list, goal_state):\n",
    "        #Generate the path from the initial state to the goal state.\n",
    "        path = []\n",
    "        current = goal_state\n",
    "        while current is not None:\n",
    "            path.append(current)\n",
    "            current = closed_list[current]\n",
    "        path.reverse()\n",
    "        return path\n"
   ]
  },
  {
   "cell_type": "markdown",
   "metadata": {},
   "source": [
    "## implementation with both BFS and DFS"
   ]
  },
  {
   "cell_type": "code",
   "execution_count": 4,
   "metadata": {},
   "outputs": [
    {
     "name": "stdout",
     "output_type": "stream",
     "text": [
      "BFS Solution:\n",
      "(4, 0)\n",
      "(1, 3)\n",
      "(1, 0)\n",
      "(0, 1)\n",
      "(4, 1)\n",
      "(2, 3)\n",
      "(2, 0)\n",
      "\n",
      "DFS Solution:\n",
      "(4, 0)\n",
      "(4, 3)\n",
      "(0, 3)\n",
      "(3, 0)\n",
      "(3, 3)\n",
      "(4, 2)\n",
      "(0, 2)\n",
      "(2, 0)\n"
     ]
    }
   ],
   "source": [
    "water_jug = WaterJug()\n",
    "print(\"BFS Solution:\")\n",
    "bfs_solution = water_jug.search(algorithm=\"BFS\")\n",
    "if bfs_solution:\n",
    "    for step in bfs_solution:\n",
    "        print(step)\n",
    "else:\n",
    "    print(\"No solution found using BFS.\")\n",
    "print(\"\\nDFS Solution:\")\n",
    "dfs_solution = water_jug.search(algorithm=\"DFS\")\n",
    "if dfs_solution:\n",
    "    for step in dfs_solution:\n",
    "        print(step)\n",
    "else:\n",
    "    print(\"No solution found using DFS.\")"
   ]
  }
 ],
 "metadata": {
  "kernelspec": {
   "display_name": "jupEnv",
   "language": "python",
   "name": "python3"
  },
  "language_info": {
   "codemirror_mode": {
    "name": "ipython",
    "version": 3
   },
   "file_extension": ".py",
   "mimetype": "text/x-python",
   "name": "python",
   "nbconvert_exporter": "python",
   "pygments_lexer": "ipython3",
   "version": "3.10.16"
  }
 },
 "nbformat": 4,
 "nbformat_minor": 2
}
