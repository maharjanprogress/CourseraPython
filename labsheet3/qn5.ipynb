{
 "cells": [
  {
   "cell_type": "markdown",
   "metadata": {},
   "source": [
    "# WAP in Python to calculate the heuristic value of the states for Blocks World Problem as follows"
   ]
  },
  {
   "cell_type": "markdown",
   "metadata": {},
   "source": [
    "## Importing Library"
   ]
  },
  {
   "cell_type": "code",
   "execution_count": 9,
   "metadata": {},
   "outputs": [],
   "source": [
    "import heapq"
   ]
  },
  {
   "cell_type": "markdown",
   "metadata": {},
   "source": [
    "## Defining Class"
   ]
  },
  {
   "cell_type": "code",
   "execution_count": 11,
   "metadata": {},
   "outputs": [],
   "source": [
    "class BlocksWorld:\n",
    "    def __init__(self, start_state, goal_state):\n",
    "        \"\"\"\n",
    "        Initialize the Blocks World problem.\n",
    "        :param start_state: List of stacks representing the initial arrangement of blocks.\n",
    "        :param goal_state: List of stacks representing the goal arrangement of blocks.\n",
    "        \"\"\"\n",
    "        self.start_state = start_state\n",
    "        self.goal_state = goal_state\n",
    "\n",
    "    def goal_test(self, state):\n",
    "        \"\"\"\n",
    "        Check if the current state matches the goal state.\n",
    "        :param state: List of stacks representing the current arrangement of blocks.\n",
    "        :return: True if the state is the goal state, False otherwise.\n",
    "        \"\"\"\n",
    "        return state == self.goal_state\n",
    "\n",
    "    def calculate_heuristic(self, state):\n",
    "        \"\"\"\n",
    "        Calculate the heuristic value for a given state.\n",
    "        :param state: List of stacks representing the current arrangement of blocks.\n",
    "        :return: Heuristic value of the state.\n",
    "        \"\"\"\n",
    "        heuristic = 0\n",
    "        for stack, goal_stack in zip(state, self.goal_state):\n",
    "            for i in range(min(len(stack), len(goal_stack))):\n",
    "                if stack[i] == goal_stack[i]:\n",
    "                    heuristic += 1  # +1 for each correctly placed block\n",
    "                else:\n",
    "                    break\n",
    "        return heuristic\n",
    "\n",
    "    def generate_successors(self, state):\n",
    "        \"\"\"\n",
    "        Generate all possible successor states by moving blocks.\n",
    "        :param state: List of stacks representing the current arrangement of blocks.\n",
    "        :return: List of tuples (successor_state, action).\n",
    "        \"\"\"\n",
    "        successors = []\n",
    "        for i in range(len(state)):\n",
    "            if not state[i]:  # Skip empty stacks\n",
    "                continue\n",
    "            block_to_move = state[i][-1]\n",
    "            for j in range(len(state)):\n",
    "                if i != j:  # Don't move a block onto the same stack\n",
    "                    # Create a deep copy of the current state\n",
    "                    new_state = [stack[:] for stack in state]\n",
    "                    # Move the block\n",
    "                    new_state[i].pop()\n",
    "                    new_state[j].append(block_to_move)\n",
    "                    action = f\"Move {block_to_move} from Stack {i+1} to Stack {j+1}\"\n",
    "                    successors.append((new_state, action))\n",
    "        return successors\n",
    "\n",
    "    def a_star_search(self):\n",
    "        \"\"\"\n",
    "        Perform A* search to find the solution to the Blocks World problem.\n",
    "        :return: List of steps to solve the problem.\n",
    "        \"\"\"\n",
    "        # Priority queue for A* (stores (cost, heuristic, state, path))\n",
    "        open_list = []\n",
    "        heapq.heappush(open_list, (0, 0, self.start_state, []))\n",
    "        # Closed list to avoid revisiting states\n",
    "        closed_list = set()\n",
    "\n",
    "        while open_list:\n",
    "            cost, heuristic, current_state, path = heapq.heappop(open_list)\n",
    "\n",
    "            # If the goal state is reached, return the solution path\n",
    "            if self.goal_test(current_state):\n",
    "                return path\n",
    "\n",
    "            # Add current state to the closed list\n",
    "            state_tuple = tuple(tuple(stack) for stack in current_state)  # Immutable representation\n",
    "            if state_tuple in closed_list:\n",
    "                continue\n",
    "            closed_list.add(state_tuple)\n",
    "\n",
    "            # Generate successors\n",
    "            for successor, action in self.generate_successors(current_state):\n",
    "                successor_tuple = tuple(tuple(stack) for stack in successor)\n",
    "                if successor_tuple in closed_list:\n",
    "                    continue\n",
    "                successor_heuristic = self.calculate_heuristic(successor)\n",
    "                new_cost = cost + 1  # Increment cost for each move\n",
    "                new_path = path + [(action, successor, successor_heuristic)]\n",
    "                heapq.heappush(open_list, (new_cost + successor_heuristic, successor_heuristic, successor, new_path))\n",
    "\n",
    "        # If no solution is found\n",
    "        return None"
   ]
  },
  {
   "cell_type": "markdown",
   "metadata": {},
   "source": [
    "## Creating an object and Executing it"
   ]
  },
  {
   "cell_type": "code",
   "execution_count": 12,
   "metadata": {},
   "outputs": [
    {
     "name": "stdout",
     "output_type": "stream",
     "text": [
      "\n",
      "Solution found!\n",
      "\n",
      "Step 1: Move B from Stack 1 to Stack 2\n",
      "State:\n",
      "['A', 'D', 'C']\n",
      "['B']\n",
      "[]\n",
      "Heuristic: 0\n",
      "------------------------------\n",
      "Step 2: Move C from Stack 1 to Stack 2\n",
      "State:\n",
      "['A', 'D']\n",
      "['B', 'C']\n",
      "[]\n",
      "Heuristic: 0\n",
      "------------------------------\n",
      "Step 3: Move D from Stack 1 to Stack 3\n",
      "State:\n",
      "['A']\n",
      "['B', 'C']\n",
      "['D']\n",
      "Heuristic: 1\n",
      "------------------------------\n",
      "Step 4: Move C from Stack 2 to Stack 3\n",
      "State:\n",
      "['A']\n",
      "['B']\n",
      "['D', 'C']\n",
      "Heuristic: 2\n",
      "------------------------------\n",
      "Step 5: Move B from Stack 2 to Stack 3\n",
      "State:\n",
      "['A']\n",
      "[]\n",
      "['D', 'C', 'B']\n",
      "Heuristic: 3\n",
      "------------------------------\n",
      "Step 6: Move A from Stack 1 to Stack 3\n",
      "State:\n",
      "[]\n",
      "[]\n",
      "['D', 'C', 'B', 'A']\n",
      "Heuristic: 4\n",
      "------------------------------\n"
     ]
    }
   ],
   "source": [
    "# Define the start and goal states\n",
    "start_state = [[\"A\", \"D\", \"C\", \"B\"], [], []]  # Blocks arranged in a single stack\n",
    "goal_state = [[], [], [\"D\", \"C\", \"B\", \"A\"]]  # Blocks arranged in reverse order in a separate stack\n",
    "# Create a BlocksWorld instance\n",
    "blocks_world = BlocksWorld(start_state, goal_state)\n",
    "# Perform A* search to solve the problem\n",
    "solution = blocks_world.a_star_search()\n",
    "# Print the solution\n",
    "if solution:\n",
    "    print(\"\\nSolution found!\\n\")\n",
    "    for step, (action, state, heuristic) in enumerate(solution, 1):\n",
    "        print(f\"Step {step}: {action}\")\n",
    "        print(\"State:\")\n",
    "        for stack in state:\n",
    "            print(stack)\n",
    "        print(f\"Heuristic: {heuristic}\")\n",
    "        print(\"-\" * 30)\n",
    "else:\n",
    "    print(\"No solution found.\")"
   ]
  },
  {
   "cell_type": "code",
   "execution_count": null,
   "metadata": {},
   "outputs": [],
   "source": []
  }
 ],
 "metadata": {
  "kernelspec": {
   "display_name": "jupEnv",
   "language": "python",
   "name": "python3"
  },
  "language_info": {
   "codemirror_mode": {
    "name": "ipython",
    "version": 3
   },
   "file_extension": ".py",
   "mimetype": "text/x-python",
   "name": "python",
   "nbconvert_exporter": "python",
   "pygments_lexer": "ipython3",
   "version": "3.10.16"
  }
 },
 "nbformat": 4,
 "nbformat_minor": 2
}
