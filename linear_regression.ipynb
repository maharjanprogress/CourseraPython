{
 "cells": [
  {
   "cell_type": "code",
   "execution_count": 1,
   "metadata": {},
   "outputs": [
    {
     "name": "stdout",
     "output_type": "stream",
     "text": [
      "Correlation Coefficient (r): 0.8463670653459558\n",
      "Intercept (a): 43.43023255813955\n",
      "Slope (b): 38.72093023255814\n",
      "Predicted Y for X = 15 : 624.2441860465117\n"
     ]
    }
   ],
   "source": [
    "import numpy as np\n",
    "\n",
    "# Data\n",
    "dataX = np.array([6, 12, 14, 6, 9, 13, 15, 9])\n",
    "dataY = np.array([300, 400, 560, 250, 290, 650, 630, 520])\n",
    "X = 15\n",
    "\n",
    "# Calculate averages\n",
    "dataXAvg = np.mean(dataX)\n",
    "dataYAvg = np.mean(dataY)\n",
    "\n",
    "# Deviation from the mean\n",
    "x = dataX - dataXAvg\n",
    "y = dataY - dataYAvg\n",
    "\n",
    "# Calculate products and squares\n",
    "xy = x * y\n",
    "xSqr = x ** 2\n",
    "ySqr = y ** 2\n",
    "\n",
    "# Summations\n",
    "sumxy = np.sum(xy)\n",
    "sumxSqr = np.sum(xSqr)\n",
    "sumySqr = np.sum(ySqr)\n",
    "\n",
    "# Correlation coefficient\n",
    "rCoefficient = sumxy / np.sqrt(sumxSqr * sumySqr)\n",
    "\n",
    "# Regression coefficients\n",
    "b = sumxy / sumxSqr\n",
    "a = dataYAvg - b * dataXAvg\n",
    "\n",
    "# Predict Y for given X\n",
    "Y = a + b * X\n",
    "\n",
    "# Output results\n",
    "print(\"Correlation Coefficient (r):\", rCoefficient)\n",
    "print(\"Intercept (a):\", a)\n",
    "print(\"Slope (b):\", b)\n",
    "print(\"Predicted Y for X =\", X, \":\", Y)"
   ]
  }
 ],
 "metadata": {
  "kernelspec": {
   "display_name": "jupEnv",
   "language": "python",
   "name": "python3"
  },
  "language_info": {
   "codemirror_mode": {
    "name": "ipython",
    "version": 3
   },
   "file_extension": ".py",
   "mimetype": "text/x-python",
   "name": "python",
   "nbconvert_exporter": "python",
   "pygments_lexer": "ipython3",
   "version": "3.10.16"
  }
 },
 "nbformat": 4,
 "nbformat_minor": 2
}
