{
 "cells": [
  {
   "cell_type": "code",
   "execution_count": 23,
   "id": "code-cell-2",
   "metadata": {},
   "outputs": [],
   "source": [
    "import numpy as np"
   ]
  },
  {
   "cell_type": "code",
   "execution_count": 30,
   "id": "58f11e5e",
   "metadata": {},
   "outputs": [],
   "source": [
    "X = np.array([[0, 0], [0, 1], [1, 0], [1, 1]])\n",
    "y = np.array([0, 1, 1, 1])"
   ]
  },
  {
   "cell_type": "code",
   "execution_count": 31,
   "id": "aa9e2122",
   "metadata": {},
   "outputs": [],
   "source": [
    "def step(x,th):\n",
    "  if x>=th:\n",
    "    return(1)\n",
    "  return(0)\n",
    "\n",
    "def predict(X, y, weights):\n",
    "  print(\"X\\tActual\\tPredicted\")\n",
    "  for x_input, y_output in zip(X, y):\n",
    "    inSum=np.sum(x_input * weights)\n",
    "    y_pred = step(inSum,th)\n",
    "    print(x_input,\"\\t\",y_output,\"\\t\",y_pred)"
   ]
  },
  {
   "cell_type": "code",
   "execution_count": 32,
   "id": "77dee3c6",
   "metadata": {},
   "outputs": [
    {
     "name": "stdout",
     "output_type": "stream",
     "text": [
      "Randomly initialized weights for each input:\n",
      "weights[0]: 0.1\n",
      "weights[1]: 0.4\n"
     ]
    }
   ],
   "source": [
    "# initialize constants\n",
    "lr = 0.1\n",
    "th = 0.5\n",
    "\n",
    "# Initialize weights array\n",
    "weights = []\n",
    "\n",
    "# Loop through each element in X\n",
    "for i in range(X.shape[1]): #+1 for te bias\n",
    "    # Initialize w randomly between 0 and 1 using Python's random module & Convert w to have only one digit after the decimal point\n",
    "    w = round(np.random.rand(),1)\n",
    "    weights.append(w)\n",
    "\n",
    "print(\"Randomly initialized weights for each input:\")\n",
    "for i in range(len(weights)):\n",
    "    print(f\"weights[{i}]:\", weights[i])"
   ]
  },
  {
   "cell_type": "code",
   "execution_count": 35,
   "id": "ff46d031",
   "metadata": {},
   "outputs": [
    {
     "name": "stdout",
     "output_type": "stream",
     "text": [
      "Final weights: [0.5, 0.5]\n"
     ]
    }
   ],
   "source": [
    "#For OR Logic Gates\n",
    "iterateFlag = True\n",
    "while (iterateFlag):\n",
    "  iterateFlag = False\n",
    "  for x_input, y_output in zip(X, y):\n",
    "    inSum=np.sum(x_input * weights)\n",
    "    y_pred = step(inSum,th)\n",
    "    err = y_output - y_pred\n",
    "    if(err!=0):\n",
    "      iterateFlag = True\n",
    "      for i in range(len(weights)):\n",
    "        dw = lr * x_input[i] * err\n",
    "        weights[i] = weights[i] + dw\n",
    "      print(\"input:\",x_input, \"actual output:\",y_output,\"predicted output: \",y_pred,\"updated weights:\", weights)\n",
    "\n",
    "print(\"Final weights:\", weights)"
   ]
  },
  {
   "cell_type": "code",
   "execution_count": 36,
   "id": "837adf9e",
   "metadata": {},
   "outputs": [
    {
     "name": "stdout",
     "output_type": "stream",
     "text": [
      "X\tActual\tPredicted\n",
      "[0 0] \t 0 \t 0\n",
      "[0 1] \t 1 \t 1\n",
      "[1 0] \t 1 \t 1\n",
      "[1 1] \t 1 \t 1\n"
     ]
    }
   ],
   "source": [
    "predict(X, y, weights)"
   ]
  }
 ],
 "metadata": {
  "kernelspec": {
   "display_name": "jupEnv",
   "language": "python",
   "name": "python3"
  },
  "language_info": {
   "codemirror_mode": {
    "name": "ipython",
    "version": 3
   },
   "file_extension": ".py",
   "mimetype": "text/x-python",
   "name": "python",
   "nbconvert_exporter": "python",
   "pygments_lexer": "ipython3",
   "version": "3.10.16"
  }
 },
 "nbformat": 4,
 "nbformat_minor": 5
}
