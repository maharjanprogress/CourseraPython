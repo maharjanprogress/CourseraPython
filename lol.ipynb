{
 "cells": [
  {
   "cell_type": "markdown",
   "metadata": {},
   "source": [
    "# identify 5 imp feature to predict the grade of the student. 100 training data ( for a datasets) generation. the data sould be balanced .i.e balanced . put that in excel sheet. then write a code in python to predict"
   ]
  },
  {
   "cell_type": "markdown",
   "metadata": {},
   "source": []
  },
  {
   "cell_type": "code",
   "execution_count": 2,
   "metadata": {},
   "outputs": [],
   "source": [
    "import pandas as pd\n",
    "import numpy as np\n",
    "\n",
    "# Parameters\n",
    "num_samples = 100\n",
    "grades = ['A', 'B', 'C', 'D', 'F']  # Balanced grades\n",
    "\n",
    "# Generate balanced data\n",
    "data = {\n",
    "    'Past Academic Performance': np.random.randint(60, 100, num_samples),\n",
    "    'Attendance Rate': np.random.uniform(0.7, 1.0, num_samples),\n",
    "    'Homework Scores': np.random.randint(60, 100, num_samples),\n",
    "    'Parental Education Level': np.random.choice(['High School', 'Bachelor', 'Master'], num_samples),\n",
    "    'Participation in Extracurricular Activities': np.random.choice(['Yes', 'No'], num_samples),\n",
    "    'Grade': np.tile(grades, num_samples // len(grades))  # Ensuring balance\n",
    "}\n",
    "\n",
    "# Create DataFrame\n",
    "df = pd.DataFrame(data)\n",
    "\n",
    "# Save to Excel\n",
    "df.to_excel('student_grade_prediction_data.xlsx', index=False)\n"
   ]
  },
  {
   "cell_type": "code",
   "execution_count": 3,
   "metadata": {},
   "outputs": [
    {
     "name": "stdout",
     "output_type": "stream",
     "text": [
      "[1 4 1 1 1 3 0 2 1 2 1 4 2 1 1 4 3 2 4 1]\n"
     ]
    }
   ],
   "source": [
    "from sklearn.model_selection import train_test_split\n",
    "from sklearn.ensemble import GradientBoostingClassifier\n",
    "from sklearn.preprocessing import LabelEncoder\n",
    "\n",
    "# Load data\n",
    "df = pd.read_excel('student_grade_prediction_data.xlsx')\n",
    "\n",
    "# Encode categorical variables\n",
    "le = LabelEncoder()\n",
    "df['Parental Education Level'] = le.fit_transform(df['Parental Education Level'])\n",
    "df['Participation in Extracurricular Activities'] = le.fit_transform(df['Participation in Extracurricular Activities'])\n",
    "df['Grade'] = le.fit_transform(df['Grade'])\n",
    "\n",
    "# Features and target variable\n",
    "X = df.drop('Grade', axis=1)\n",
    "y = df['Grade']\n",
    "\n",
    "# Split into training and test sets\n",
    "X_train, X_test, y_train, y_test = train_test_split(X, y, test_size=0.2, random_state=42)\n",
    "\n",
    "# Train the model\n",
    "model = GradientBoostingClassifier()\n",
    "model.fit(X_train, y_train)\n",
    "\n",
    "# Make predictions\n",
    "predictions = model.predict(X_test)\n",
    "print(predictions)\n"
   ]
  },
  {
   "cell_type": "code",
   "execution_count": 5,
   "metadata": {},
   "outputs": [
    {
     "name": "stdout",
     "output_type": "stream",
     "text": [
      "Accuracy with k=5: 30.00%\n"
     ]
    }
   ],
   "source": [
    "import pandas as pd\n",
    "from sklearn.model_selection import train_test_split\n",
    "from sklearn.neighbors import KNeighborsClassifier\n",
    "from sklearn.metrics import accuracy_score\n",
    "\n",
    "# Load your dataset\n",
    "df = pd.read_excel('student_grade_prediction_data.xlsx')\n",
    "\n",
    "# Encode categorical variables if necessary\n",
    "df['Parental Education Level'] = df['Parental Education Level'].astype('category').cat.codes\n",
    "df['Participation in Extracurricular Activities'] = df['Participation in Extracurricular Activities'].astype('category').cat.codes\n",
    "df['Grade'] = df['Grade'].astype('category').cat.codes\n",
    "\n",
    "# Features and target variable\n",
    "X = df.drop('Grade', axis=1)\n",
    "y = df['Grade']\n",
    "\n",
    "# Split into training and test sets\n",
    "X_train, X_test, y_train, y_test = train_test_split(X, y, test_size=0.2, random_state=42)\n",
    "\n",
    "# Create KNN classifier instance\n",
    "k = 5  # You can adjust this value\n",
    "knn = KNeighborsClassifier(n_neighbors=k)\n",
    "\n",
    "# Fit the model\n",
    "knn.fit(X_train, y_train)\n",
    "\n",
    "# Make predictions\n",
    "y_pred = knn.predict(X_test)\n",
    "\n",
    "# Calculate accuracy\n",
    "accuracy = accuracy_score(y_test, y_pred)\n",
    "print(f'Accuracy with k={k}: {accuracy * 100:.2f}%')\n"
   ]
  },
  {
   "cell_type": "code",
   "execution_count": 2,
   "metadata": {},
   "outputs": [
    {
     "name": "stdout",
     "output_type": "stream",
     "text": [
      "Grade distribution:\n",
      "Grade\n",
      "A    20\n",
      "B    20\n",
      "C    20\n",
      "D    20\n",
      "F    20\n",
      "Name: count, dtype: int64\n",
      "The grades are balanced.\n"
     ]
    }
   ],
   "source": [
    "import pandas as pd\n",
    "\n",
    "# Load your dataset\n",
    "df = pd.read_excel('student_grade_prediction_data.xlsx')\n",
    "\n",
    "# Count occurrences of each grade\n",
    "grade_counts = df['Grade'].value_counts()\n",
    "\n",
    "# Display the counts for each grade\n",
    "print(\"Grade distribution:\")\n",
    "print(grade_counts)\n",
    "\n",
    "# Check if the grades are equalized\n",
    "is_balanced = (grade_counts.nunique() == 1)\n",
    "if is_balanced:\n",
    "    print(\"The grades are balanced.\")\n",
    "else:\n",
    "    print(\"The grades are not balanced.\")\n"
   ]
  }
 ],
 "metadata": {
  "kernelspec": {
   "display_name": "Python 3",
   "language": "python",
   "name": "python3"
  },
  "language_info": {
   "codemirror_mode": {
    "name": "ipython",
    "version": 3
   },
   "file_extension": ".py",
   "mimetype": "text/x-python",
   "name": "python",
   "nbconvert_exporter": "python",
   "pygments_lexer": "ipython3",
   "version": "3.12.1"
  }
 },
 "nbformat": 4,
 "nbformat_minor": 2
}
