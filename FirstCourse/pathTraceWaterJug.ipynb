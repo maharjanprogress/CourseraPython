{
 "cells": [
  {
   "cell_type": "markdown",
   "metadata": {},
   "source": [
    "# Creating Class for it"
   ]
  },
  {
   "cell_type": "code",
   "execution_count": 1,
   "metadata": {},
   "outputs": [],
   "source": [
    "class WaterJugSolver:\n",
    "    def __init__(self, capacity_a=3, capacity_b=4, target=2):\n",
    "        self.capacity_a = capacity_a  # Capacity of Jug A\n",
    "        self.capacity_b = capacity_b  # Capacity of Jug B\n",
    "        self.target = target  # Target amount of water\n",
    "        self.visited = set()  # Set to track visited states\n",
    "        self.parent = {}  # Dictionary to map state to its parent state\n",
    "\n",
    "    def is_goal(self, state):\n",
    "        # Check if the goal state is reached\n",
    "        a, b = state\n",
    "        return a == self.target or b == self.target\n",
    "\n",
    "    def get_next_states(self, state):\n",
    "        # Generate all possible next states from the current state\n",
    "        a, b = state\n",
    "        states = []\n",
    "\n",
    "        # Fill Jug A\n",
    "        states.append((self.capacity_a, b))\n",
    "        # Fill Jug B\n",
    "        states.append((a, self.capacity_b))\n",
    "        # Empty Jug A\n",
    "        states.append((0, b))\n",
    "        # Empty Jug B\n",
    "        states.append((a, 0))\n",
    "        # Pour from A to B\n",
    "        pour_to_b = min(a, self.capacity_b - b)\n",
    "        states.append((a - pour_to_b, b + pour_to_b))\n",
    "        # Pour from B to A\n",
    "        pour_to_a = min(b, self.capacity_a - a)\n",
    "        states.append((a + pour_to_a, b - pour_to_a))\n",
    "\n",
    "        # Return only unique states\n",
    "        return states\n",
    "\n",
    "    def solve(self):\n",
    "        # Breadth-first search (BFS) to explore all possible states\n",
    "        start = (0, 0)  # Initial state: both jugs empty\n",
    "        queue = [start]\n",
    "        self.visited.add(start)\n",
    "        self.parent[start] = None  # Start state has no parent\n",
    "\n",
    "        while queue:\n",
    "            current_state = queue.pop(0)\n",
    "\n",
    "            # Check if the goal is reached\n",
    "            if self.is_goal(current_state):\n",
    "                return self.construct_path(current_state)\n",
    "\n",
    "            # Explore next states\n",
    "            for next_state in self.get_next_states(current_state):\n",
    "                if next_state not in self.visited:\n",
    "                    self.visited.add(next_state)\n",
    "                    self.parent[next_state] = current_state  # Track parent\n",
    "                    queue.append(next_state)\n",
    "\n",
    "        return None  # If no solution is found\n",
    "\n",
    "    def construct_path(self, goal_state):\n",
    "        # Reconstruct the path from start to goal using the parent dictionary\n",
    "        path = []\n",
    "        current = goal_state\n",
    "        while current is not None:\n",
    "            path.append(current)\n",
    "            current = self.parent[current]\n",
    "        path.reverse()\n",
    "        return path\n",
    "\n",
    "    def display_solution(self):\n",
    "        # Solve and display the solution path\n",
    "        path = self.solve()\n",
    "        if path:\n",
    "            print(\"Solution path (Jug A, Jug B):\")\n",
    "            for step in path:\n",
    "                print(f\"Jug A: {step[0]} liters, Jug B: {step[1]} liters\")\n",
    "        else:\n",
    "            print(\"No solution found.\")\n"
   ]
  },
  {
   "cell_type": "markdown",
   "metadata": {},
   "source": [
    "# Creating Object"
   ]
  },
  {
   "cell_type": "code",
   "execution_count": 2,
   "metadata": {},
   "outputs": [
    {
     "name": "stdout",
     "output_type": "stream",
     "text": [
      "Solution path (Jug A, Jug B):\n",
      "Jug A: 0 liters, Jug B: 0 liters\n",
      "Jug A: 3 liters, Jug B: 0 liters\n",
      "Jug A: 0 liters, Jug B: 3 liters\n",
      "Jug A: 3 liters, Jug B: 3 liters\n",
      "Jug A: 2 liters, Jug B: 4 liters\n"
     ]
    }
   ],
   "source": [
    "solver = WaterJugSolver(target=2)\n",
    "solver.display_solution()"
   ]
  }
 ],
 "metadata": {
  "kernelspec": {
   "display_name": "Python 3",
   "language": "python",
   "name": "python3"
  },
  "language_info": {
   "codemirror_mode": {
    "name": "ipython",
    "version": 3
   },
   "file_extension": ".py",
   "mimetype": "text/x-python",
   "name": "python",
   "nbconvert_exporter": "python",
   "pygments_lexer": "ipython3",
   "version": "3.12.1"
  }
 },
 "nbformat": 4,
 "nbformat_minor": 2
}
