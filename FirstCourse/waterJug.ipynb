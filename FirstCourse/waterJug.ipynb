{
 "cells": [
  {
   "cell_type": "markdown",
   "metadata": {},
   "source": [
    "# Class"
   ]
  },
  {
   "cell_type": "code",
   "execution_count": 14,
   "metadata": {},
   "outputs": [],
   "source": [
    "class WaterJugSolver:\n",
    "    def __init__(self, capacity_a=3, capacity_b=4, target=2):\n",
    "        self.capacity_a = capacity_a  # Maximum capacity of Jug A\n",
    "        self.capacity_b = capacity_b  # Maximum capacity of Jug B\n",
    "        self.target = target  # Target amount of water\n",
    "        self.visited = set()  # To keep track of visited states\n",
    "        self.solution = []  # To store the solution steps\n",
    "\n",
    "    def is_goal(self, state):\n",
    "        # Check if the goal state is reached\n",
    "        a, b = state\n",
    "        return a == self.target or b == self.target\n",
    "\n",
    "    def get_next_states(self, state):\n",
    "        # Generate all possible next states from the current state\n",
    "        a, b = state\n",
    "        states = []\n",
    "\n",
    "        # Fill Jug A\n",
    "        states.append((self.capacity_a, b))\n",
    "        # Fill Jug B\n",
    "        states.append((a, self.capacity_b))\n",
    "        # Empty Jug A\n",
    "        states.append((0, b))\n",
    "        # Empty Jug B\n",
    "        states.append((a, 0))\n",
    "        # Pour from A to B\n",
    "        pour_to_b = min(a, self.capacity_b - b)\n",
    "        states.append((a - pour_to_b, b + pour_to_b))\n",
    "        # Pour from B to A\n",
    "        pour_to_a = min(b, self.capacity_a - a)\n",
    "        states.append((a + pour_to_a, b - pour_to_a))\n",
    "\n",
    "        # Return only unique states\n",
    "        return states\n",
    "\n",
    "    def solve(self):\n",
    "        # Breadth-first search to find the solution\n",
    "        queue = [(0, 0)]  # Start with both jugs empty\n",
    "        self.visited.add((0, 0))  # Mark initial state as visited\n",
    "\n",
    "        while queue:\n",
    "            current_state = queue.pop(0)\n",
    "            self.solution.append(current_state)\n",
    "\n",
    "            # Check if goal is reached\n",
    "            if self.is_goal(current_state):\n",
    "                return self.solution\n",
    "\n",
    "            # Generate and explore next states\n",
    "            for next_state in self.get_next_states(current_state):\n",
    "                if next_state not in self.visited:\n",
    "                    self.visited.add(next_state)\n",
    "                    queue.append(next_state)\n",
    "\n",
    "        # If no solution is found, return an empty list\n",
    "        return []\n",
    "\n",
    "    def display_solution(self):\n",
    "        # Display the solution steps\n",
    "        if self.solution:\n",
    "            for step in self.solution:\n",
    "                print(f\"Jug A: {step[0]}, Jug B: {step[1]}\")\n",
    "        else:\n",
    "            print(\"No solution found.\")\n"
   ]
  },
  {
   "cell_type": "markdown",
   "metadata": {},
   "source": [
    "# Create object and Run it"
   ]
  },
  {
   "cell_type": "code",
   "execution_count": 15,
   "metadata": {},
   "outputs": [
    {
     "name": "stdout",
     "output_type": "stream",
     "text": [
      "Jug A: 0, Jug B: 0\n",
      "Jug A: 3, Jug B: 0\n",
      "Jug A: 0, Jug B: 4\n",
      "Jug A: 3, Jug B: 4\n",
      "Jug A: 0, Jug B: 3\n",
      "Jug A: 3, Jug B: 1\n",
      "Jug A: 3, Jug B: 3\n",
      "Jug A: 0, Jug B: 1\n",
      "Jug A: 2, Jug B: 4\n"
     ]
    }
   ],
   "source": [
    "solver = WaterJugSolver(target=2)\n",
    "solution = solver.solve()\n",
    "solver.display_solution()"
   ]
  }
 ],
 "metadata": {
  "kernelspec": {
   "display_name": "Python 3",
   "language": "python",
   "name": "python3"
  },
  "language_info": {
   "codemirror_mode": {
    "name": "ipython",
    "version": 3
   },
   "file_extension": ".py",
   "mimetype": "text/x-python",
   "name": "python",
   "nbconvert_exporter": "python",
   "pygments_lexer": "ipython3",
   "version": "3.12.1"
  }
 },
 "nbformat": 4,
 "nbformat_minor": 2
}
