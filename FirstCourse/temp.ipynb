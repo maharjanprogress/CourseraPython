{
 "cells": [
  {
   "cell_type": "markdown",
   "metadata": {},
   "source": [
    "# importing Libraries"
   ]
  },
  {
   "cell_type": "code",
   "execution_count": 1,
   "metadata": {},
   "outputs": [],
   "source": [
    "import random"
   ]
  },
  {
   "cell_type": "markdown",
   "metadata": {},
   "source": [
    "# Creating a room and a agent"
   ]
  },
  {
   "cell_type": "code",
   "execution_count": 16,
   "metadata": {},
   "outputs": [
    {
     "name": "stdout",
     "output_type": "stream",
     "text": [
      "Initial Room Status:\n",
      "0   1   1   0   0   1   1   0   1   1   \n",
      "\n",
      "1   1   1   0   0   0   0   1   1   0   \n",
      "\n",
      "1   0   1   1   1   1   1   0   1   0   \n",
      "\n",
      "1   1   1   0   0   0   0   0   1   1   \n",
      "\n",
      "1   1   0   1   1   0   0   1   1   0   \n",
      "\n",
      "0   0   1   0   1   0   0   0   1   1   \n",
      "\n",
      "0   0   1   1   0   0   0   1   0   0   \n",
      "\n",
      "0   1   0   0   1   0   0   1   1   1   \n",
      "\n",
      "0   0   0   1   0   0   1   1   0   0   \n",
      "\n",
      "1   0   1   1   0   1   1   1   0   1   \n",
      "\n"
     ]
    }
   ],
   "source": [
    "class RoomCleanerAgent:\n",
    "    def __init__(self, room_size=(10, 10)):\n",
    "        self.room_size = room_size\n",
    "        # Initialize the room as a 10x10 grid with random 0 (clean) and 1 (dirty) cells\n",
    "        self.grid = [[random.choice([0, 1]) for _ in range(room_size[1])] for _ in range(room_size[0])]\n",
    "        # Initialize the agent's position randomly\n",
    "        self.current_position = (random.randint(0, room_size[0] - 1), random.randint(0, room_size[1] - 1))\n",
    "\n",
    "    def display_room(self):\n",
    "        # Display the current status of the room grid\n",
    "        for row in self.grid:\n",
    "          for cell in row:\n",
    "            print(str(cell),end=\"   \")\n",
    "          print(\"\\n\")\n",
    "\n",
    "\n",
    "    def run(self):\n",
    "        # Display initial status of the room\n",
    "        print(\"Initial Room Status:\")\n",
    "        self.display_room()\n",
    "\n",
    "# Create and run the Room Cleaner Agent\n",
    "agent = RoomCleanerAgent()\n",
    "agent.run()\n"
   ]
  },
  {
   "cell_type": "code",
   "execution_count": 1,
   "metadata": {},
   "outputs": [],
   "source": [
    "class RoomCleanerAgent:\n",
    "    def __init__(self, room_size=(10, 10)):\n",
    "        self.room_size = room_size\n",
    "        # Initialize the room as a 10x10 grid with random 0 (clean) and 1 (dirty) cells\n",
    "        self.grid = [[random.choice([0, 1]) for _ in range(room_size[1])] for _ in range(room_size[0])]\n",
    "        # Initialize the agent's position randomly\n",
    "        self.current_position = (random.randint(0, room_size[0] - 1), random.randint(0, room_size[1] - 1))\n",
    "\n",
    "    def display_room(self):\n",
    "        # Display the current status of the room grid\n",
    "        for row in self.grid:\n",
    "          for cell in row:\n",
    "            print(cell, end=\"   \")\n",
    "          print(\"\\n\")\n",
    "\n",
    "    def perceive(self):\n",
    "        # Perceive the cleanliness of the current cell\n",
    "        x, y = self.current_position\n",
    "        return self.grid[x][y]\n",
    "\n",
    "    def act(self):\n",
    "        # Perform action based on the perception (clean the cell if dirty)\n",
    "        x, y = self.current_position\n",
    "        if self.perceive() == 1:  # If the current cell is dirty (1)\n",
    "            self.grid[x][y] = 'X'\n",
    "            self.display_room()\n",
    "            print(f\"Cell ({x}, {y}) is Dirty. Cleaning...\")\n",
    "            self.grid[x][y] = 0  # Clean the cell (set to 0)\n",
    "            print(f\"Cell ({x}, {y}) is now Clean.\")\n",
    "        else:\n",
    "            print(f\"Cell ({x}, {y}) is already Clean.\")\n",
    "\n",
    "    def move(self):\n",
    "        # Systematic movement to cover the entire grid row by row\n",
    "        x, y = self.current_position\n",
    "        if y < self.room_size[1] - 1:  # Move to the next cell in the same row\n",
    "            self.current_position = (x, y + 1)\n",
    "        elif x < self.room_size[0] - 1:  # Move to the first cell of the next row\n",
    "            self.current_position = (x + 1, 0)\n",
    "        else:\n",
    "            self.current_position = None  # All cells have been visited\n",
    "\n",
    "    def is_room_clean(self):\n",
    "        # Check if the entire room is clean\n",
    "        return all(cell == 0 for row in self.grid for cell in row)\n",
    "\n",
    "    def run(self):\n",
    "        # Display initial status of the room\n",
    "        print(\"Initial Room Status:\")\n",
    "        self.display_room()\n",
    "\n",
    "        steps = 0\n",
    "        while not self.is_room_clean():\n",
    "            print(f\"\\nStep {steps + 1}:\")\n",
    "            self.act()\n",
    "            self.move()\n",
    "            steps += 1\n",
    "            if self.current_position is None:\n",
    "                # Restart from the top-left corner if needed to ensure all cells are visited\n",
    "                self.current_position = (0, 0)\n",
    "\n",
    "        # Display final status of the room\n",
    "        print(\"\\nFinal Room Status:\")\n",
    "        self.display_room()\n",
    "        print(f\"Room cleaned in {steps} steps.\")"
   ]
  },
  {
   "cell_type": "markdown",
   "metadata": {},
   "source": [
    "# Create and run the Room Cleaner Agent"
   ]
  },
  {
   "cell_type": "code",
   "execution_count": 2,
   "metadata": {},
   "outputs": [
    {
     "ename": "NameError",
     "evalue": "name 'random' is not defined",
     "output_type": "error",
     "traceback": [
      "\u001b[0;31m---------------------------------------------------------------------------\u001b[0m",
      "\u001b[0;31mNameError\u001b[0m                                 Traceback (most recent call last)",
      "Cell \u001b[0;32mIn[2], line 1\u001b[0m\n\u001b[0;32m----> 1\u001b[0m agent \u001b[38;5;241m=\u001b[39m \u001b[43mRoomCleanerAgent\u001b[49m\u001b[43m(\u001b[49m\u001b[43m)\u001b[49m\n\u001b[1;32m      2\u001b[0m agent\u001b[38;5;241m.\u001b[39mrun()\n",
      "Cell \u001b[0;32mIn[1], line 5\u001b[0m, in \u001b[0;36mRoomCleanerAgent.__init__\u001b[0;34m(self, room_size)\u001b[0m\n\u001b[1;32m      3\u001b[0m \u001b[38;5;28mself\u001b[39m\u001b[38;5;241m.\u001b[39mroom_size \u001b[38;5;241m=\u001b[39m room_size\n\u001b[1;32m      4\u001b[0m \u001b[38;5;66;03m# Initialize the room as a 10x10 grid with random 0 (clean) and 1 (dirty) cells\u001b[39;00m\n\u001b[0;32m----> 5\u001b[0m \u001b[38;5;28mself\u001b[39m\u001b[38;5;241m.\u001b[39mgrid \u001b[38;5;241m=\u001b[39m [[\u001b[43mrandom\u001b[49m\u001b[38;5;241m.\u001b[39mchoice([\u001b[38;5;241m0\u001b[39m, \u001b[38;5;241m1\u001b[39m]) \u001b[38;5;28;01mfor\u001b[39;00m _ \u001b[38;5;129;01min\u001b[39;00m \u001b[38;5;28mrange\u001b[39m(room_size[\u001b[38;5;241m1\u001b[39m])] \u001b[38;5;28;01mfor\u001b[39;00m _ \u001b[38;5;129;01min\u001b[39;00m \u001b[38;5;28mrange\u001b[39m(room_size[\u001b[38;5;241m0\u001b[39m])]\n\u001b[1;32m      6\u001b[0m \u001b[38;5;66;03m# Initialize the agent's position randomly\u001b[39;00m\n\u001b[1;32m      7\u001b[0m \u001b[38;5;28mself\u001b[39m\u001b[38;5;241m.\u001b[39mcurrent_position \u001b[38;5;241m=\u001b[39m (random\u001b[38;5;241m.\u001b[39mrandint(\u001b[38;5;241m0\u001b[39m, room_size[\u001b[38;5;241m0\u001b[39m] \u001b[38;5;241m-\u001b[39m \u001b[38;5;241m1\u001b[39m), random\u001b[38;5;241m.\u001b[39mrandint(\u001b[38;5;241m0\u001b[39m, room_size[\u001b[38;5;241m1\u001b[39m] \u001b[38;5;241m-\u001b[39m \u001b[38;5;241m1\u001b[39m))\n",
      "\u001b[0;31mNameError\u001b[0m: name 'random' is not defined"
     ]
    }
   ],
   "source": [
    "agent = RoomCleanerAgent()\n",
    "agent.run()"
   ]
  },
  {
   "cell_type": "code",
   "execution_count": 7,
   "metadata": {},
   "outputs": [
    {
     "name": "stdout",
     "output_type": "stream",
     "text": [
      "-3 0\n",
      "-2 -1\n",
      "-2 1\n",
      "-1 -2\n",
      "-1 2\n",
      "0 -3\n",
      "0 3\n",
      "1 -2\n",
      "1 2\n",
      "2 -1\n",
      "2 1\n",
      "3 0\n"
     ]
    }
   ],
   "source": [
    "step = 3\n",
    "for i in range(-step, step + 1):\n",
    "    for j in range(-step, step + 1):\n",
    "        if abs(i) + abs(j) != step:\n",
    "                continue\n",
    "        print(i,j)"
   ]
  }
 ],
 "metadata": {
  "kernelspec": {
   "display_name": "Python 3",
   "language": "python",
   "name": "python3"
  },
  "language_info": {
   "codemirror_mode": {
    "name": "ipython",
    "version": 3
   },
   "file_extension": ".py",
   "mimetype": "text/x-python",
   "name": "python",
   "nbconvert_exporter": "python",
   "pygments_lexer": "ipython3",
   "version": "3.12.1"
  }
 },
 "nbformat": 4,
 "nbformat_minor": 2
}
